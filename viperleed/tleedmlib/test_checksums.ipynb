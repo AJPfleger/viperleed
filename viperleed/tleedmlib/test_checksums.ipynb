{
 "cells": [
  {
   "cell_type": "code",
   "execution_count": 1,
   "metadata": {},
   "outputs": [],
   "source": [
    "import tl_base as b\n",
    "from checksums import *"
   ]
  },
  {
   "cell_type": "code",
   "execution_count": 9,
   "metadata": {},
   "outputs": [
    {
     "name": "stdout",
     "output_type": "stream",
     "text": [
      "1.6\n",
      "\tnot found: TensErLEED-v1.6/lib/lib.tleed.v1.6.f\n",
      "\tfound: dict_keys(['TensErLEED-v1.6/src/GLOBAL', 'TensErLEED-v1.6/lib/lib.delta.v1.6.f', 'TensErLEED-v1.6/lib/lib.search.v1.6.f', 'TensErLEED-v1.6/lib/lib.search.mpi.f', 'TensErLEED-v1.6/lib/rfacsb.v1.6.f', 'TensErLEED-v1.6/lib/lib.superpos.v1.6.f', 'densErLEED-v1.6/lib/lib.tleed.v1.6.f', 'TensErLEED-v1.6/src/superpos.v1.6.f', 'TensErLEED-v1.6/src/search.mpi.f', 'TensErLEED-v1.6/src/ref-calc.v1.6.f', 'TensErLEED-v1.6/src/delta.v1.6.f', 'TensErLEED-v1.6/src/rfactor.v1.6.f', 'TensErLEED-v1.6/src/search.v1.6.f', 'TensErLEED-v1.6/src/rfactorforerro2.v1.6.f'])\n",
      "\tchanged: TensErLEED-v1.6/src/superpos.v1.6.f\n",
      "\tchecksum file:    ('03a8546e3929f3ee07aea124f0d5fb8393332a0950c99cca830383d68c45f765',)\n",
      "\tchecksum stored:  ('03a8546e3929f3ue07aea124f0d5fb8393332a0950c99cca830383d68c45f765',)\n",
      "\tnot found: TensErLEED-v1.6/src/rfactorforerror.v1.6.f\n",
      "\tfound: dict_keys(['TensErLEED-v1.6/src/GLOBAL', 'TensErLEED-v1.6/lib/lib.delta.v1.6.f', 'TensErLEED-v1.6/lib/lib.search.v1.6.f', 'TensErLEED-v1.6/lib/lib.search.mpi.f', 'TensErLEED-v1.6/lib/rfacsb.v1.6.f', 'TensErLEED-v1.6/lib/lib.superpos.v1.6.f', 'densErLEED-v1.6/lib/lib.tleed.v1.6.f', 'TensErLEED-v1.6/src/superpos.v1.6.f', 'TensErLEED-v1.6/src/search.mpi.f', 'TensErLEED-v1.6/src/ref-calc.v1.6.f', 'TensErLEED-v1.6/src/delta.v1.6.f', 'TensErLEED-v1.6/src/rfactor.v1.6.f', 'TensErLEED-v1.6/src/search.v1.6.f', 'TensErLEED-v1.6/src/rfactorforerro2.v1.6.f'])\n",
      "1.61\n",
      "\tnot found: TensErLEED-v1.61/lib/lib.search.mpi.f\n",
      "\tfound: dict_keys(['TensErLEED-v1.61/src/GLOBAL', 'TensErLEED-v1.61/lib/lib.search.v1.6.f', 'TensErLEED-v1.61/lib/lib.searcl.mpi.f', 'TensErLEED-v1.61/lib/rfacsb.v1.6.f', 'TensErLEED-v1.61/lib/lib.superpos.v1.6.f', 'TensErLEED-v1.61/lib/lib.delta.v1.61.f', 'TensErLEED-v1.61/lib/intarr_hashing.f90', 'TensErLEED-v1.61/lib/lib.tleed.v1.6.f', 'TensErLEED-v1.61/src/superpos.v1.6.f', 'TensErLEED-v1.61/src/ref-calc.v1.6.f', 'TensErLEED-v1.61/src/rfactor.v1.6.f', 'TensErLEED-v1.61/src/search.v1.6.f', 'TensErLEED-v1.61/src/delta.v1.61.f', 'TensErLEED-v1.61/src/rfactorforerror.v1.6.f', 'TensErLEED-v1.61/src/search.mpi.f90'])\n",
      "\tchanged: TensErLEED-v1.61/lib/lib.tleed.v1.6.f\n",
      "\tchecksum file:    ('7e46e26f12dc7f4b82c227b865b08ef1962c58ed4d6ff3d658fce7f0827b8eec',)\n",
      "\tchecksum stored:  ('7e46e26f12dc7f4b82c227b865b08ef1962c58ed4d6ff3d658fce7f0827b:eec',)\n",
      "\tchanged: TensErLEED-v1.61/src/rfactor.v1.6.f\n",
      "\tchecksum file:    ('49d87897a07c55d9782d85860cd279b7dd3d1592ba80ae278a67908eb60d8549',)\n",
      "\tchecksum stored:  ('49d87896a07c55d9782d85860cd279b7dd3d1592ba80ae278a67908eb60d8549',)\n",
      "1.71\n",
      "\tchanged: TensErLEED-v1.71/lib/lib.search.v1.71.f\n",
      "\tchecksum file:    ('8c9634e34bca746817a6d2bf8ce324c9fe8bba63fd27eb2df64245cd98e44f1d',)\n",
      "\tchecksum stored:  ('8c9634e35bca746817a6d2bf8ce324c9fe8bba63fd27eb2df64245cd98e44f1d',)\n",
      "\tnot found: TensErLEED-v1.71/src/delta.v1.71.f\n",
      "\tfound: dict_keys(['TensErLEED-v1.71/src/GLOBAL', 'TensErLEED-v1.71/lib/lib.superpos.v1.71.f', 'TensErLEED-v1.71/lib/lib.search.v1.71.f', 'TensErLEED-v1.71/lib/lib.tleed.v1.71.f', 'TensErLEED-v1.71/lib/rfacsb.v1.71.f', 'TensErLEED-v1.71/lib/intarr_hashing.f90', 'TensErLEED-v1.71/lib/lib.delta.v1.71.f', 'TensErLEED-v1.71/lib/lib.search.mpi.v1.71.f', 'TensErLEED-v1.71/src/superpos.v1.71.f', 'TensErLEED-v1.71/src/rfactor.v1.71.f', 'TensErLEED-v1.71/src/search.mpi.v1.71.f90', 'TensErLEED-v1.71/src/delta.v1.61.f', 'TensErLEED-v1.81/src/ref-calc.v1.71.f', 'TensErLEED-v1.71/src/search.v1.71.f90'])\n",
      "\tnot found: TensErLEED-v1.71/src/ref-calc.v1.71.f\n",
      "\tfound: dict_keys(['TensErLEED-v1.71/src/GLOBAL', 'TensErLEED-v1.71/lib/lib.superpos.v1.71.f', 'TensErLEED-v1.71/lib/lib.search.v1.71.f', 'TensErLEED-v1.71/lib/lib.tleed.v1.71.f', 'TensErLEED-v1.71/lib/rfacsb.v1.71.f', 'TensErLEED-v1.71/lib/intarr_hashing.f90', 'TensErLEED-v1.71/lib/lib.delta.v1.71.f', 'TensErLEED-v1.71/lib/lib.search.mpi.v1.71.f', 'TensErLEED-v1.71/src/superpos.v1.71.f', 'TensErLEED-v1.71/src/rfactor.v1.71.f', 'TensErLEED-v1.71/src/search.mpi.v1.71.f90', 'TensErLEED-v1.71/src/delta.v1.61.f', 'TensErLEED-v1.81/src/ref-calc.v1.71.f', 'TensErLEED-v1.71/src/search.v1.71.f90'])\n",
      "1.73\n",
      "\tchanged: TensErLEED-v1.73/lib/lib.search.f\n",
      "\tchecksum file:    ('6da7874dda85168d972c6e04cc6c134ea5819b67b511510824d306854641cb3d',)\n",
      "\tchecksum stored:  ('6da7874dda85188d972c6e04cc6c134ea5819b67b511510824d306854641cb3d',)\n"
     ]
    }
   ],
   "source": [
    "for version in SOURCE_FILE_VERSIONS:\n",
    "    if SOURCE_FILE_VERSIONS[version] == b.read_encoded_checksums()[version]:\n",
    "        continue\n",
    "    print(version)\n",
    "    _source = SOURCE_FILE_VERSIONS[version]\n",
    "    _read  = b.read_encoded_checksums()[version]\n",
    "    for f_name in SOURCE_FILE_VERSIONS[version]:\n",
    "        if f_name not in _read:\n",
    "            print(\"\\tnot found: \" + f_name)\n",
    "            print(\"\\tfound:\",_read.keys())\n",
    "            continue\n",
    "        if _source[f_name] != _read[f_name]:\n",
    "            print(f\"\\tchanged: \" + f_name)\n",
    "            print(f\"\\tchecksum file:   \", _source[f_name])\n",
    "            print(f\"\\tchecksum stored: \", _read[f_name])\n"
   ]
  },
  {
   "cell_type": "code",
   "execution_count": 5,
   "metadata": {},
   "outputs": [
    {
     "data": {
      "text/plain": [
       "False"
      ]
     },
     "execution_count": 5,
     "metadata": {},
     "output_type": "execute_result"
    }
   ],
   "source": []
  },
  {
   "cell_type": "code",
   "execution_count": null,
   "metadata": {},
   "outputs": [],
   "source": []
  }
 ],
 "metadata": {
  "kernelspec": {
   "display_name": "Python 3.8.13 ('viper-dev')",
   "language": "python",
   "name": "python3"
  },
  "language_info": {
   "codemirror_mode": {
    "name": "ipython",
    "version": 3
   },
   "file_extension": ".py",
   "mimetype": "text/x-python",
   "name": "python",
   "nbconvert_exporter": "python",
   "pygments_lexer": "ipython3",
   "version": "3.8.13"
  },
  "orig_nbformat": 4,
  "vscode": {
   "interpreter": {
    "hash": "30649e971cf90529e5031778c11815f2b5ac0fd4962458bfb30d371e1f16e62b"
   }
  }
 },
 "nbformat": 4,
 "nbformat_minor": 2
}
