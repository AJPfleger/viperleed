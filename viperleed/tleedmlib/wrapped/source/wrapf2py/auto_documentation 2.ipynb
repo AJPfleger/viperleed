{
 "cells": [
  {
   "cell_type": "code",
<<<<<<< Updated upstream
   "execution_count": 9,
=======
<<<<<<< Updated upstream
   "execution_count": 9,
=======
   "execution_count": 1,
>>>>>>> Stashed changes
>>>>>>> Stashed changes
   "id": "d60d00f2-c6b6-48df-82d3-9388044bb390",
   "metadata": {},
   "outputs": [],
   "source": [
    "from rfactor import r_factor_new as rf"
   ]
  },
  {
   "cell_type": "code",
<<<<<<< Updated upstream
   "execution_count": 10,
=======
<<<<<<< Updated upstream
   "execution_count": 10,
=======
   "execution_count": 2,
>>>>>>> Stashed changes
>>>>>>> Stashed changes
   "id": "8c3834c4-3da3-46b1-9a24-b301a10f9ac9",
   "metadata": {},
   "outputs": [],
   "source": [
    "def pd(f):\n",
    "    print(f.__doc__)"
   ]
  },
  {
   "cell_type": "code",
<<<<<<< Updated upstream
   "execution_count": 11,
=======
<<<<<<< Updated upstream
   "execution_count": 11,
=======
   "execution_count": 3,
>>>>>>> Stashed changes
>>>>>>> Stashed changes
   "id": "8644a55f-8afc-4e54-949e-3464c8849c2f",
   "metadata": {},
   "outputs": [
    {
     "name": "stdout",
     "output_type": "stream",
     "text": [
      "y = parabola(x,a,b,c)\n",
      "\n",
      "Wrapper for ``parabola``.\n",
      "\n",
      "Parameters\n",
      "----------\n",
      "x : input float\n",
      "a : input float\n",
      "b : input float\n",
      "c : input float\n",
      "\n",
      "Returns\n",
      "-------\n",
      "y : float\n",
      "\n"
     ]
    }
   ],
   "source": [
    "pd(rf.parabola)"
   ]
  },
  {
   "cell_type": "code",
<<<<<<< Updated upstream
   "execution_count": 12,
=======
<<<<<<< Updated upstream
   "execution_count": 12,
=======
   "execution_count": 4,
>>>>>>> Stashed changes
>>>>>>> Stashed changes
   "id": "f9b3b1c4-ade8-4edd-9b70-3700cf070ee2",
   "metadata": {},
   "outputs": [
    {
     "name": "stdout",
     "output_type": "stream",
     "text": [
<<<<<<< Updated upstream
=======
<<<<<<< Updated upstream
>>>>>>> Stashed changes
      "best_v0r_step,best_v0r,best_r,r_pendry_beams,n_overlapping_points,ierr = r_pendry_beamset_v0r_opt_on_grid(range,start_guess,fast_search,e_step,y1,y2,id_start_y1,id_start_y2,n_y1,n_y2,[n_e,n_beams,tol_r,additional_steps_limit])\n",
      "\n",
      "Wrapper for ``r_pendry_beamset_v0r_opt_on_grid``.\n",
      "\n",
      "Parameters\n",
      "----------\n",
<<<<<<< Updated upstream
=======
=======
      "best_v0r_step,best_v0r,best_r,n_evaluated,r_beams,numerators,denominators,n_overlapping_points,ierr = r_beamset_v0r_opt_on_grid(which_r,range,start_guess,fast_search,e_step,data_1,data_2,id_start_1,id_start_2,n_1,n_2,tol_r_2,max_fit_range,[n_e,n_beams,tol_r])\n",
      "\n",
      "Wrapper for ``r_beamset_v0r_opt_on_grid``.\n",
      "\n",
      "Parameters\n",
      "----------\n",
      "which_r : input int\n",
>>>>>>> Stashed changes
>>>>>>> Stashed changes
      "range : input rank-1 array('i') with bounds (2)\n",
      "start_guess : input rank-1 array('i') with bounds (3)\n",
      "fast_search : in/output rank-0 array(int,'i')\n",
      "e_step : input float\n",
<<<<<<< Updated upstream
=======
<<<<<<< Updated upstream
>>>>>>> Stashed changes
      "y1 : input rank-2 array('d') with bounds (n_e,n_beams)\n",
      "y2 : input rank-2 array('d') with bounds (n_e,n_beams)\n",
      "id_start_y1 : input rank-1 array('i') with bounds (n_beams)\n",
      "id_start_y2 : input rank-1 array('i') with bounds (n_beams)\n",
      "n_y1 : input rank-1 array('i') with bounds (n_beams)\n",
      "n_y2 : input rank-1 array('i') with bounds (n_beams)\n",
<<<<<<< Updated upstream
=======
=======
      "data_1 : input rank-2 array('d') with bounds (n_e,n_beams)\n",
      "data_2 : input rank-2 array('d') with bounds (n_e,n_beams)\n",
      "id_start_1 : input rank-1 array('i') with bounds (n_beams)\n",
      "id_start_2 : input rank-1 array('i') with bounds (n_beams)\n",
      "n_1 : input rank-1 array('i') with bounds (n_beams)\n",
      "n_2 : input rank-1 array('i') with bounds (n_beams)\n",
      "tol_r_2 : input float\n",
      "max_fit_range : input int\n",
>>>>>>> Stashed changes
>>>>>>> Stashed changes
      "\n",
      "Other Parameters\n",
      "----------------\n",
      "n_e : input int, optional\n",
<<<<<<< Updated upstream
=======
<<<<<<< Updated upstream
>>>>>>> Stashed changes
      "    Default: shape(y1,0)\n",
      "n_beams : input int, optional\n",
      "    Default: shape(y1,1)\n",
      "tol_r : input float, optional\n",
      "    Default: 0.05\n",
      "additional_steps_limit : input int, optional\n",
      "    Default: 6\n",
<<<<<<< Updated upstream
=======
=======
      "    Default: shape(data_1,0)\n",
      "n_beams : input int, optional\n",
      "    Default: shape(data_1,1)\n",
      "tol_r : input float, optional\n",
      "    Default: 1e-05\n",
>>>>>>> Stashed changes
>>>>>>> Stashed changes
      "\n",
      "Returns\n",
      "-------\n",
      "best_v0r_step : int\n",
      "best_v0r : float\n",
      "best_r : float\n",
<<<<<<< Updated upstream
      "r_pendry_beams : rank-1 array('d') with bounds (n_beams)\n",
=======
<<<<<<< Updated upstream
      "r_pendry_beams : rank-1 array('d') with bounds (n_beams)\n",
=======
      "n_evaluated : int\n",
      "r_beams : rank-1 array('d') with bounds (n_beams)\n",
      "numerators : rank-1 array('d') with bounds (n_beams)\n",
      "denominators : rank-1 array('d') with bounds (n_beams)\n",
>>>>>>> Stashed changes
>>>>>>> Stashed changes
      "n_overlapping_points : rank-1 array('i') with bounds (n_beams)\n",
      "ierr : int\n",
      "\n"
     ]
    }
   ],
   "source": [
<<<<<<< Updated upstream
    "pd(rf.r_pendry_beamset_v0r_opt_on_grid)"
=======
<<<<<<< Updated upstream
    "pd(rf.r_pendry_beamset_v0r_opt_on_grid)"
=======
    "pd(rf.r_beamset_v0r_opt_on_grid)"
>>>>>>> Stashed changes
>>>>>>> Stashed changes
   ]
  },
  {
   "cell_type": "code",
<<<<<<< Updated upstream
   "execution_count": null,
   "id": "34b17e49-b060-4d7a-a6ee-2de32492a3ec",
   "metadata": {},
=======
<<<<<<< Updated upstream
   "execution_count": null,
   "id": "34b17e49-b060-4d7a-a6ee-2de32492a3ec",
   "metadata": {},
=======
   "execution_count": 7,
   "id": "34b17e49-b060-4d7a-a6ee-2de32492a3ec",
   "metadata": {},
   "outputs": [
    {
     "name": "stdout",
     "output_type": "stream",
     "text": [
      "e_start_beams_out,n_e_beams_out,intpol_intensity,y_func,ierr = prepare_beams(e_grid_in,intensities_in,e_start_beams,n_e_beams,skip_stages,n_beams_out,averaging_scheme,which_r,deg,e_grid_out,v0i,[n_beams])\n",
      "\n",
      "Wrapper for ``prepare_beams``.\n",
      "\n",
      "Parameters\n",
      "----------\n",
      "e_grid_in : input rank-1 array('d') with bounds (n_e_in)\n",
      "intensities_in : input rank-2 array('d') with bounds (n_e_in,n_beams)\n",
      "e_start_beams : input rank-1 array('i') with bounds (n_beams)\n",
      "n_e_beams : input rank-1 array('i') with bounds (n_beams)\n",
      "skip_stages : input rank-1 array('i') with bounds (5)\n",
      "n_beams_out : input int\n",
      "averaging_scheme : input rank-1 array('i') with bounds (n_beams)\n",
      "which_r : input int\n",
      "deg : input int\n",
      "e_grid_out : input rank-1 array('d') with bounds (n_e_out)\n",
      "v0i : input float\n",
      "\n",
      "Other Parameters\n",
      "----------------\n",
      "n_beams : input int, optional\n",
      "    Default: shape(intensities_in,1)\n",
      "\n",
      "Returns\n",
      "-------\n",
      "e_start_beams_out : rank-1 array('i') with bounds (n_beams)\n",
      "n_e_beams_out : rank-1 array('i') with bounds (n_beams)\n",
      "intpol_intensity : rank-2 array('d') with bounds (n_e_out,n_beams)\n",
      "y_func : rank-2 array('d') with bounds (n_e_out,n_beams)\n",
      "ierr : int\n",
      "\n"
     ]
    }
   ],
   "source": [
    "pd(rf.prepare_beams)"
   ]
  },
  {
   "cell_type": "code",
   "execution_count": 8,
   "id": "eb86be64-d6a3-474a-a4cf-1dff4b46eb2b",
   "metadata": {},
   "outputs": [
    {
     "name": "stdout",
     "output_type": "stream",
     "text": [
      "r_factor_groups,n_overlapping_points_groups,ierr = r_beamtype_grouping(which_r,r_beams,numerators,denominators,n_overlapping_points,n_groups,grouping,[n_beams])\n",
      "\n",
      "Wrapper for ``r_beamtype_grouping``.\n",
      "\n",
      "Parameters\n",
      "----------\n",
      "which_r : input int\n",
      "r_beams : input rank-1 array('d') with bounds (n_beams)\n",
      "numerators : input rank-1 array('d') with bounds (n_beams)\n",
      "denominators : input rank-1 array('d') with bounds (n_beams)\n",
      "n_overlapping_points : input rank-1 array('i') with bounds (n_beams)\n",
      "n_groups : input int\n",
      "grouping : input rank-1 array('i') with bounds (n_beams)\n",
      "\n",
      "Other Parameters\n",
      "----------------\n",
      "n_beams : input int, optional\n",
      "    Default: len(r_beams)\n",
      "\n",
      "Returns\n",
      "-------\n",
      "r_factor_groups : rank-1 array('d') with bounds (n_groups)\n",
      "n_overlapping_points_groups : rank-1 array('i') with bounds (n_groups)\n",
      "ierr : int\n",
      "\n"
     ]
    }
   ],
   "source": [
    "pd(rf.r_beamtype_grouping)"
   ]
  },
  {
   "cell_type": "code",
   "execution_count": 9,
   "id": "631f9667-42a9-4bbb-ab3b-da9c63f2484e",
   "metadata": {},
   "outputs": [
    {
     "name": "stdout",
     "output_type": "stream",
     "text": [
      "r2,n_overlapping_points = r2_beam_intensity(e_step,int_1,int_2,id_start_1,id_start_2,n_1,n_2,v0r_shift,[n_e])\n",
      "\n",
      "Wrapper for ``r2_beam_intensity``.\n",
      "\n",
      "Parameters\n",
      "----------\n",
      "e_step : input float\n",
      "int_1 : input rank-1 array('d') with bounds (n_e)\n",
      "int_2 : input rank-1 array('d') with bounds (n_e)\n",
      "id_start_1 : input int\n",
      "id_start_2 : input int\n",
      "n_1 : input int\n",
      "n_2 : input int\n",
      "v0r_shift : input int\n",
      "\n",
      "Other Parameters\n",
      "----------------\n",
      "n_e : input int, optional\n",
      "    Default: len(int_1)\n",
      "\n",
      "Returns\n",
      "-------\n",
      "r2 : float\n",
      "n_overlapping_points : int\n",
      "\n"
     ]
    }
   ],
   "source": [
    "pd(rf.r2_beam_intensity)"
   ]
  },
  {
   "cell_type": "code",
   "execution_count": 7,
   "id": "cd4198bd-8cea-49cc-b297-fa0931726013",
   "metadata": {},
   "outputs": [
    {
     "name": "stdout",
     "output_type": "stream",
     "text": [
      "r2_weighted,r2_beams,n_overlapping_points,ierr = r2_beamset_intensity(e_step,int_1,int_2,id_start_1,id_start_2,n_1,n_2,v0r_shift,[n_e,n_beams])\n",
      "\n",
      "Wrapper for ``r2_beamset_intensity``.\n",
      "\n",
      "Parameters\n",
      "----------\n",
      "e_step : input float\n",
      "int_1 : input rank-2 array('d') with bounds (n_e,n_beams)\n",
      "int_2 : input rank-2 array('d') with bounds (n_e,n_beams)\n",
      "id_start_1 : input rank-1 array('i') with bounds (n_beams)\n",
      "id_start_2 : input rank-1 array('i') with bounds (n_beams)\n",
      "n_1 : input rank-1 array('i') with bounds (n_beams)\n",
      "n_2 : input rank-1 array('i') with bounds (n_beams)\n",
      "v0r_shift : input int\n",
      "\n",
      "Other Parameters\n",
      "----------------\n",
      "n_e : input int, optional\n",
      "    Default: shape(int_1,0)\n",
      "n_beams : input int, optional\n",
      "    Default: shape(int_1,1)\n",
      "\n",
      "Returns\n",
      "-------\n",
      "r2_weighted : float\n",
      "r2_beams : rank-1 array('d') with bounds (n_beams)\n",
      "n_overlapping_points : rank-1 array('i') with bounds (n_beams)\n",
      "ierr : int\n",
      "\n"
     ]
    }
   ],
   "source": [
    "pd(rf.r2_beamset_intensity)"
   ]
  },
  {
   "cell_type": "code",
   "execution_count": 9,
   "id": "458d453d-0105-41cb-b063-6812611e2295",
   "metadata": {},
   "outputs": [
    {
     "name": "stdout",
     "output_type": "stream",
     "text": [
      "r_factor_groups,n_overlapping_points_groups,ierr = r_beamtype_grouping(which_r,r_beams,numerators,denominators,n_overlapping_points,n_groups,grouping,[n_beams])\n",
      "\n",
      "Wrapper for ``r_beamtype_grouping``.\n",
      "\n",
      "Parameters\n",
      "----------\n",
      "which_r : input int\n",
      "r_beams : input rank-1 array('d') with bounds (n_beams)\n",
      "numerators : input rank-1 array('d') with bounds (n_beams)\n",
      "denominators : input rank-1 array('d') with bounds (n_beams)\n",
      "n_overlapping_points : input rank-1 array('i') with bounds (n_beams)\n",
      "n_groups : input int\n",
      "grouping : input rank-1 array('i') with bounds (n_beams)\n",
      "\n",
      "Other Parameters\n",
      "----------------\n",
      "n_beams : input int, optional\n",
      "    Default: len(r_beams)\n",
      "\n",
      "Returns\n",
      "-------\n",
      "r_factor_groups : rank-1 array('d') with bounds (n_groups)\n",
      "n_overlapping_points_groups : rank-1 array('i') with bounds (n_groups)\n",
      "ierr : int\n",
      "\n"
     ]
    }
   ],
   "source": [
    "pd(rf.r_beamtype_grouping)"
   ]
  },
  {
   "cell_type": "code",
   "execution_count": 10,
   "id": "19915bdc-4d7a-41b9-ba28-8767787bad3e",
   "metadata": {},
   "outputs": [
    {
     "name": "stdout",
     "output_type": "stream",
     "text": [
      "ierr = apply_beamset_shift(data_1,id_start_1,n_1,data_2,id_start_2,n_2,shift,[n_e,n_beams,fill_outside])\n",
      "\n",
      "Wrapper for ``apply_beamset_shift``.\n",
      "\n",
      "Parameters\n",
      "----------\n",
      "data_1 : in/output rank-2 array('d') with bounds (n_e,n_beams)\n",
      "id_start_1 : in/output rank-1 array('i') with bounds (n_beams)\n",
      "n_1 : in/output rank-1 array('i') with bounds (n_beams)\n",
      "data_2 : in/output rank-2 array('d') with bounds (n_e,n_beams)\n",
      "id_start_2 : in/output rank-1 array('i') with bounds (n_beams)\n",
      "n_2 : in/output rank-1 array('i') with bounds (n_beams)\n",
      "shift : input int\n",
      "\n",
      "Other Parameters\n",
      "----------------\n",
      "n_e : input int, optional\n",
      "    Default: shape(data_1,0)\n",
      "n_beams : input int, optional\n",
      "    Default: shape(data_1,1)\n",
      "fill_outside : input int, optional\n",
      "    Default: 1\n",
      "\n",
      "Returns\n",
      "-------\n",
      "ierr : int\n",
      "\n"
     ]
    }
   ],
   "source": [
    "pd(rf.apply_beamset_shift)"
   ]
  },
  {
   "cell_type": "code",
   "execution_count": null,
   "id": "55f1e9aa-520b-48b5-a68f-bb061ed1df21",
   "metadata": {},
>>>>>>> Stashed changes
>>>>>>> Stashed changes
   "outputs": [],
   "source": []
  }
 ],
 "metadata": {
  "kernelspec": {
   "display_name": "Python 3 (ipykernel)",
   "language": "python",
   "name": "python3"
  },
  "language_info": {
   "codemirror_mode": {
    "name": "ipython",
    "version": 3
   },
   "file_extension": ".py",
   "mimetype": "text/x-python",
   "name": "python",
   "nbconvert_exporter": "python",
   "pygments_lexer": "ipython3",
   "version": "3.8.12"
  }
 },
 "nbformat": 4,
 "nbformat_minor": 5
}
