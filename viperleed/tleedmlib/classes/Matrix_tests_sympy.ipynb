{
 "cells": [
  {
   "cell_type": "code",
   "execution_count": 1,
   "id": "51f1a29f-a9dd-4d10-a2ba-f0b216d0a34c",
   "metadata": {},
   "outputs": [],
   "source": [
    "import sys\n",
    "import os\n",
    "import numpy as np\n",
    "import shutil"
   ]
  },
  {
   "cell_type": "code",
   "execution_count": 2,
   "id": "5c9df112-65f9-4091-a1d5-6c1afda1e214",
   "metadata": {},
   "outputs": [
    {
     "data": {
      "text/latex": [
       "$\\displaystyle \\left[\\begin{matrix}a & 0 & 0\\\\0 & c & 0\\\\0 & 0 & b\\end{matrix}\\right]$"
      ],
      "text/plain": [
       "Matrix([\n",
       "[a, 0, 0],\n",
       "[0, c, 0],\n",
       "[0, 0, b]])"
      ]
     },
     "execution_count": 2,
     "metadata": {},
     "output_type": "execute_result"
    }
   ],
   "source": [
    "# Using sympy for testing matrix operations - #snippet #syntax\n",
    "import sympy as sym\n",
    "a, b, c = sym.symbols(\"a b c\")\n",
    "A = sym.Matrix([[a,0,0],[0,b,0],[0,0,c]])\n",
    "B = sym.Matrix([[1,0,0],[0,0,1],[0,1,0]])\n",
    "X = sym.MatrixSymbol('X', 3, 3)\n",
    "eq = A*X - B\n",
    "#sym.solve(eq, X)\n",
    "B*A*B"
   ]
  },
  {
   "cell_type": "code",
   "execution_count": 3,
   "id": "e769bde7-c3ca-4663-9b6a-23cf617a44dd",
   "metadata": {},
   "outputs": [
    {
     "data": {
      "text/latex": [
       "$\\displaystyle \\left[\\begin{matrix}2 & 0 & 0\\\\0 & 3 & 2\\\\0 & 1 & 4\\end{matrix}\\right]$"
      ],
      "text/plain": [
       "Matrix([\n",
       "[2, 0, 0],\n",
       "[0, 3, 2],\n",
       "[0, 1, 4]])"
      ]
     },
     "execution_count": 3,
     "metadata": {},
     "output_type": "execute_result"
    }
   ],
   "source": [
    "R = sym.Matrix([[2,0,0],[0,3,2],[0,1,4]])\n",
    "I = sym.Matrix([[1,0,0],[0,1,0],[0,0,1]])\n",
    "A = sym.Matrix([[1,0,0],[0,2,0],[0,0,3]])\n",
    "v = sym.Matrix([[1,0,5]])\n",
    "R*I*R.inv()\n",
    "\n",
    "R"
   ]
  },
  {
   "cell_type": "code",
   "execution_count": 4,
   "id": "46b1842a-9943-447a-bede-f423f15e5b34",
   "metadata": {},
   "outputs": [
    {
     "data": {
      "text/plain": [
       "(Matrix([\n",
       " [1.0,   0,   0],\n",
       " [  0, 2.0,   0],\n",
       " [  0,   0, 3.0]]),\n",
       " Matrix([[1, 0, -5]]))"
      ]
     },
     "execution_count": 4,
     "metadata": {},
     "output_type": "execute_result"
    }
   ],
   "source": [
    "t = np.array([[1,0,0],[0,1,0],[0,0,-1]]) #interoperate sympy and numpy matrices\n",
    "np.abs(np.linalg.det(t)) - 1 < 1e-5\n",
    "np.linalg.inv(t)*A*t, v*t"
   ]
  },
  {
   "cell_type": "code",
   "execution_count": 5,
   "id": "a1df5ba7-df0b-488c-aaf3-c789683d22ad",
   "metadata": {},
   "outputs": [
    {
     "data": {
      "text/plain": [
       "array([[1., 0., 0.],\n",
       "       [0., 0., 1.],\n",
       "       [0., 1., 0.]])"
      ]
     },
     "execution_count": 5,
     "metadata": {},
     "output_type": "execute_result"
    }
   ],
   "source": [
    "np.identity(3)\n",
    "np.linalg.inv(np.array([[1,0,0],[0,0,1],[0,1,0]]))"
   ]
  },
  {
   "cell_type": "code",
   "execution_count": null,
   "id": "5a3b969a-b4bd-42fc-9d64-349d07e426a9",
   "metadata": {},
   "outputs": [],
   "source": []
  }
 ],
 "metadata": {
  "kernelspec": {
   "display_name": "Python 3 (ipykernel)",
   "language": "python",
   "name": "python3"
  },
  "language_info": {
   "codemirror_mode": {
    "name": "ipython",
    "version": 3
   },
   "file_extension": ".py",
   "mimetype": "text/x-python",
   "name": "python",
   "nbconvert_exporter": "python",
   "pygments_lexer": "ipython3",
   "version": "3.8.12"
  }
 },
 "nbformat": 4,
 "nbformat_minor": 5
}
